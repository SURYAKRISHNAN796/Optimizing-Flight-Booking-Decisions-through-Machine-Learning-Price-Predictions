{
  "nbformat": 4,
  "nbformat_minor": 0,
  "metadata": {
    "colab": {
      "provenance": []
    },
    "kernelspec": {
      "name": "python3",
      "display_name": "Python 3"
    },
    "language_info": {
      "name": "python"
    }
  },
  "cells": [
    {
      "cell_type": "code",
      "execution_count": 1,
      "metadata": {
        "id": "STZCt6gf4g8D"
      },
      "outputs": [],
      "source": [
        "import numpy as np\n",
        "import pandas as pd\n",
        "import matplotlib.pyplot as plt\n",
        "import seaborn as seconds_in_a_day\n",
        "from sklearn.model_selection import train_test_split\n",
        "from sklearn.ensemble import RandomForestClassifier,GradientBoostingClassifier\n",
        "from sklearn.tree import DecisionTreeClassifier\n",
        "from sklearn.neighbors import KNeighborsClassifier\n",
        "from sklearn.metrics import f1_score\n",
        "from sklearn.metrics import classification_report, confusion_matrix\n",
        "import warnings\n",
        "import pickle\n",
        "from scipy import stats\n",
        "warnings.filterwarnings('ignore')\n",
        "plt.style.use('fivethirtyeight')"
      ]
    },
    {
      "cell_type": "code",
      "source": [
        "data-pd.read_csv(\"Data_Train . xlsx\")\n",
        "data.head()"
      ],
      "metadata": {
        "id": "orX9Gwl35i3F"
      },
      "execution_count": null,
      "outputs": []
    },
    {
      "cell_type": "code",
      "source": [
        "for i in category:\n",
        "print(i, data[i].unique())"
      ],
      "metadata": {
        "id": "9oaSuv3M54t_"
      },
      "execution_count": null,
      "outputs": []
    },
    {
      "cell_type": "code",
      "source": [
        "#e now split the Date col umn to extract the 'Date', Month' and Year' values, and store them in new columns in our dataframe.\n",
        "data.Date_of_Journey-data.Date_of_Journey. str.split(\"/\")\n",
        "data.Date_of_Journey"
      ],
      "metadata": {
        "id": "pyihmq_r5-xi"
      },
      "execution_count": null,
      "outputs": []
    },
    {
      "cell_type": "code",
      "source": [
        "#Treating the data_column\n",
        "data['Date']=data.Date_of_Journey. str[e]\n",
        "data['Nonth' ] =data.Date_of_Journey.str[1)\n",
        "data['Year']-data. Date_of_Journey. str [2]"
      ],
      "metadata": {
        "id": "PADB_00q6Fi2"
      },
      "execution_count": null,
      "outputs": []
    },
    {
      "cell_type": "code",
      "source": [
        "data.Total Stops.unique()\n",
        "array(['no0-stop', \"2 stops', '1 stop', '3 stops', '4 stops'),\n",
        "dtype-dbject)"
      ],
      "metadata": {
        "id": "G5Wu_nLS6L07"
      },
      "execution_count": null,
      "outputs": []
    },
    {
      "cell_type": "code",
      "source": [
        "#Since the maximum number of stops is 4, there should be maximum 6 cities in any particular route. Ne split the data in route col\n",
        "data.Route-data.Route.str.split(')\n",
        "data.Route"
      ],
      "metadata": {
        "id": "owO8sm7S6R8y"
      },
      "execution_count": null,
      "outputs": []
    },
    {
      "cell_type": "code",
      "source": [
        "data[ Cityl' J-data.Route .str[o]\n",
        "data[ 'City2 ]-data.Route.str[1]\n",
        "data[ City3']-data. Route.str[2]\n",
        "data['City4 ]-data.Route.str [3)\n",
        "datal 'Citys' ]-data.Route.str[4]\n",
        "data[ Cityő' J-data.Route.str[5]"
      ],
      "metadata": {
        "id": "O-5nW-GT6WmL"
      },
      "execution_count": null,
      "outputs": []
    },
    {
      "cell_type": "code",
      "source": [
        "#In the similor manner, we split the Dep tine columm, ond create separote columns for departure hours and minutes\n",
        "data.Dep_Tine-data.Dep_Tine. str.split(':\")"
      ],
      "metadata": {
        "id": "DlcLoNud6cpn"
      },
      "execution_count": null,
      "outputs": []
    },
    {
      "cell_type": "code",
      "source": [
        "data.Dep Tine-data.Dep Tine. str. split(:\")\n",
        "data( Dep_Tine Hour' ]-data. Dep_Tine.str[o]\n",
        "datal 'Dep_Time Mins' ]-data.Dep_Tine.str[1]"
      ],
      "metadata": {
        "id": "AhUG4goV6jB0"
      },
      "execution_count": null,
      "outputs": []
    },
    {
      "cell_type": "code",
      "source": [
        "data.Arrival Tine=data .Arrival _Tine.str.split(\" \")"
      ],
      "metadata": {
        "id": "gkbkUmjq6nJt"
      },
      "execution_count": null,
      "outputs": []
    },
    {
      "cell_type": "code",
      "source": [
        "data[ 'Arrival date']-data.Arrival_ Time.str[1]\n",
        "data[\"Tine_of_Arrival' ]-data.Arrival_Time. str[0]"
      ],
      "metadata": {
        "id": "SfEawdAG6q-e"
      },
      "execution_count": null,
      "outputs": []
    },
    {
      "cell_type": "code",
      "source": [
        "data['Time_of _Arrival' ]-data. Time_of_Arrival.str.split(': \")"
      ],
      "metadata": {
        "id": "Trf4mxeD6uO_"
      },
      "execution_count": null,
      "outputs": []
    },
    {
      "cell_type": "code",
      "source": [
        "data['Arrival_Tine_Hour' ]-data. Time_of_Arrival.str[8]\n",
        "data['Arrival_Time_Mins']-data. Time_of_Arrival.str[1]"
      ],
      "metadata": {
        "id": "nqJjiRuO6yPs"
      },
      "execution_count": null,
      "outputs": []
    },
    {
      "cell_type": "code",
      "source": [
        "#Next, we divide the 'Duration' column to Travel_hours' and Travel mins\n",
        "data.Duration=data. Duration. str. split(' \")"
      ],
      "metadata": {
        "id": "A2oRHSS562Dp"
      },
      "execution_count": null,
      "outputs": []
    },
    {
      "cell_type": "code",
      "source": [
        "data['Travel_ Hours']=data. Duration.str[0]\n",
        "dataf'Travel Hours' ]=data['Travel Hours' ].str.split('\"h')\n",
        "datal'Travel Hours']-data['Travel_ Hours'].str[0]\n",
        "data.Travel Hours-data .Travel Hours\n",
        "data[\"Travel Mins']-data.Duration.str[1]\n",
        "data. Travel Mins-data. Travel_Mins.str.split('n')\n",
        "data.Travel Mins-data.Travel_ Mins.str[0]"
      ],
      "metadata": {
        "id": "8K1w2zmD64Rj"
      },
      "execution_count": null,
      "outputs": []
    },
    {
      "cell_type": "code",
      "source": [
        "#we also treat the Total_stops' column, and replace non-stop flights with value and extract the integer part of the 'Total_ St\n",
        "data.Total_Stops.replace('non_stop',0, inplace=True)\n",
        "data.Total _Stops-data. Total"
      ],
      "metadata": {
        "id": "XLH7i0Ed67Ag"
      },
      "execution_count": null,
      "outputs": []
    },
    {
      "cell_type": "code",
      "source": [
        "#we also treat the Total stops' column, and replace non-stop flights with 8 value and extract the integer part of the 'Total_ Stu\n",
        "data. Total Stops.replace('non_ stop\",0,inplace-True)\n",
        "data. Total _Stops=data. Total _Stops.str.split(\" ')\n",
        "data.Total_ Stops-data. Total_ Stops.str[0]"
      ],
      "metadata": {
        "id": "GK9a344f6-v7"
      },
      "execution_count": null,
      "outputs": []
    },
    {
      "cell_type": "code",
      "source": [
        "data.Aditional Info.unique()"
      ],
      "metadata": {
        "id": "fQxFzCR47DOn"
      },
      "execution_count": null,
      "outputs": []
    },
    {
      "cell_type": "code",
      "source": [
        "data.Additional Info.replace( 'No Info', 'lo info', inplace-True)"
      ],
      "metadata": {
        "id": "MYtqtbsy7HDE"
      },
      "execution_count": null,
      "outputs": []
    },
    {
      "cell_type": "code",
      "source": [
        "data.isnull() .sum()"
      ],
      "metadata": {
        "id": "ser4Rfrc7HMr"
      },
      "execution_count": null,
      "outputs": []
    },
    {
      "cell_type": "code",
      "source": [
        "#we also drop some columns Like city6' and city5', since majority of the data in these columns was NaN(nulL)\n",
        "data.drop(['City4', 'City5', ' City6'], axis=1, inplace-True)"
      ],
      "metadata": {
        "id": "LCwoPgjl7Nrs"
      },
      "execution_count": null,
      "outputs": []
    },
    {
      "cell_type": "code",
      "source": [
        "data.drop(['Date of_Journey', 'Route','Dep_Time', 'Arrival_Time', 'Duration '] , axis=1, inplace=True)\n",
        "data.drop(['Time_of_Arrival'], axis-1, inplace-True)"
      ],
      "metadata": {
        "id": "1p3hKQbt7RVS"
      },
      "execution_count": null,
      "outputs": []
    },
    {
      "cell_type": "code",
      "source": [
        "#Checking NuLL Values\n",
        "data.isnull() .sum()"
      ],
      "metadata": {
        "id": "LprXNhOF7UL3"
      },
      "execution_count": null,
      "outputs": []
    },
    {
      "cell_type": "code",
      "source": [
        "#filling City3 as None, the missing values are Less\n",
        "data( City3' ].fillna('lone', inplace-True)"
      ],
      "metadata": {
        "id": "72NrELdI7XB8"
      },
      "execution_count": null,
      "outputs": []
    },
    {
      "cell_type": "code",
      "source": [
        "#filling Arrival Date as Departure Date\n",
        "data['Arrival date'].fillna (data[ ' Date'], inplace-True)"
      ],
      "metadata": {
        "id": "sAYwrLtM7Zle"
      },
      "execution_count": null,
      "outputs": []
    },
    {
      "cell_type": "code",
      "source": [
        "#filling Travel_ Mins os Zero(0)\n",
        "data('Travel ins'].fillna(8, inlace- True)"
      ],
      "metadata": {
        "id": "2VpNZ36g7dBe"
      },
      "execution_count": null,
      "outputs": []
    },
    {
      "cell_type": "code",
      "source": [
        "data.info()"
      ],
      "metadata": {
        "id": "g5OmkC-R7dLw"
      },
      "execution_count": null,
      "outputs": []
    },
    {
      "cell_type": "code",
      "source": [
        "#changing the numerical columns from object to int\n",
        "#data. Total_Stops=data. Total_ Stops.astype(\"int64')\n",
        "data.Date-data. Date.astype(\" int64')\n",
        "data.Month=data. Month. astype('int64')\n",
        "data.Year=data. Year.astype(' int64')\n",
        "data.Dep_Time_Hour-data.Dep_Time Hour.astype('int64')\n",
        "data.Dep_Time_Hour-data . Dep_Time Hour.astype('int64')\n",
        "data.Dep_Time Mins=data . Dep_Time Mins.astype('int64')\n",
        "data.Arrival date-data.Arrival date.astype(\"int64\")\n",
        "data.Arrival _Time Hour-data.Arrival_Time Hour. astype(' int64')\n",
        "data.Arrival_Time_ Mins-data .Arrival _Time Mins.astype('int64')\n",
        "#data. Travel Hours=data. Travel Hours.as type (' int64')\n",
        "data.Travel_ Mins-data. Travel_Mins. astype(' int64')"
      ],
      "metadata": {
        "id": "U4UwERR97dQR"
      },
      "execution_count": null,
      "outputs": []
    },
    {
      "cell_type": "code",
      "source": [
        "data[data[ \"Travel Hours' ]= Sn']"
      ],
      "metadata": {
        "id": "_xCduX2e7dUK"
      },
      "execution_count": null,
      "outputs": []
    },
    {
      "cell_type": "code",
      "source": [
        "data.(drglirder-8t7,İnplace- ne,adis-t)"
      ],
      "metadata": {
        "id": "F_SBXBqM7pCZ"
      },
      "execution_count": null,
      "outputs": []
    },
    {
      "cell_type": "code",
      "source": [
        "data.Travel Hours-data.Travel Hours.astyge('intó4')"
      ],
      "metadata": {
        "id": "DcHE0GJ67pRo"
      },
      "execution_count": null,
      "outputs": []
    },
    {
      "cell_type": "code",
      "source": [
        "Creoting List of Different types of coluns\n",
        "categorical=['Airline','Source', \"Destination','Additional Info', Cityl']\n",
        "numerical-( Total Stops', Date\", Wonth', 'Year', Dep Tine Hour', Dep Tine_ Mins', 'Arrival date', 'Arival Tine Hour',\n",
        "'Arrival Tine áns',' Travel Hours', Travel Mins']"
      ],
      "metadata": {
        "id": "FIWepUwT7pgJ"
      },
      "execution_count": null,
      "outputs": []
    },
    {
      "cell_type": "code",
      "source": [
        "from sklearn. preprocessing import LabelEncoder\n",
        "le-LabelEncoder()"
      ],
      "metadata": {
        "id": "_Q4YLnAi71qt"
      },
      "execution_count": null,
      "outputs": []
    },
    {
      "cell_type": "code",
      "source": [
        "data.Airline-le. fit transform(data .Airline)\n",
        "data.Source=le.fit transform(data. Source)\n",
        "data.Destination=le . fit_transform(data . Destination)\n",
        "data.Total_Stops=le .fit_transform(data. Total_Stops)\n",
        "data.City1=le.fit_transform(data . City1)\n",
        "data.City2-le. fit_transform(data .City2)\n",
        "data.City3-le. fit_transform(data. City3)\n",
        "data.Additional_Info-le. fit_transform(data .Additional_Info)\n",
        "data.head()"
      ],
      "metadata": {
        "id": "vX2SQnrt71ve"
      },
      "execution_count": null,
      "outputs": []
    },
    {
      "cell_type": "code",
      "source": [
        "data.head()"
      ],
      "metadata": {
        "id": "b1JjYPqg7121"
      },
      "execution_count": null,
      "outputs": []
    },
    {
      "cell_type": "code",
      "source": [
        "data = data[['Airline', 'Source', 'Destination', 'Date', 'Honth', 'Year', 'Dep_Time Hour', 'Dep_Time Mins', 'Arrival_date', 'Arrival_Tir\n",
        "data.head()"
      ],
      "metadata": {
        "id": "wf1b5JIo72AH"
      },
      "execution_count": null,
      "outputs": []
    },
    {
      "cell_type": "code",
      "source": [
        "data.head()"
      ],
      "metadata": {
        "id": "YYQKn1Ql8C4z"
      },
      "execution_count": null,
      "outputs": []
    },
    {
      "cell_type": "code",
      "source": [
        "#plotting Countplots for Categorical Data\n",
        "import seaborn as sns\n",
        "C=1\n",
        "plt.figure(figsize- (28,45))\n",
        "for i in categorical:\n",
        "plt.subplot (6,3, c)\n",
        "sns.countplot (data[i])\n",
        "plt.xticks (rotation=90)\n",
        "plt.tight_layout (pad=3.0)\n",
        "C=C+1\n",
        "plt.show()"
      ],
      "metadata": {
        "id": "7efkJxo28DJR"
      },
      "execution_count": null,
      "outputs": []
    },
    {
      "cell_type": "code",
      "source": [
        "#Distribution of PRICE' Col umn\n",
        "plt.figure(figsize- (15,8))\n",
        "sns.distplot (data . Price)"
      ],
      "metadata": {
        "id": "7-thmCjn8DY2"
      },
      "execution_count": null,
      "outputs": []
    },
    {
      "cell_type": "code",
      "source": [
        "sns.heatmap (data.corr (), annot-True)"
      ],
      "metadata": {
        "id": "---MgsAF8DnP"
      },
      "execution_count": null,
      "outputs": []
    },
    {
      "cell_type": "code",
      "source": [
        "# Detecting the Outliers\n",
        "import seaborn as sns\n",
        "Sns.boxplot (data['Price'])"
      ],
      "metadata": {
        "id": "vWEel1mM8UGV"
      },
      "execution_count": null,
      "outputs": []
    },
    {
      "cell_type": "code",
      "source": [
        "y = data['Price']\n",
        "x = data.drop(columns-[' Price'], axis=1)"
      ],
      "metadata": {
        "id": "3Ckwt3yG8Y7L"
      },
      "execution_count": null,
      "outputs": []
    },
    {
      "cell_type": "code",
      "source": [
        "### Scaling the Data"
      ],
      "metadata": {
        "id": "ZuzU1OQt8bdL"
      },
      "execution_count": null,
      "outputs": []
    },
    {
      "cell_type": "code",
      "source": [
        "from sklearn . preprocessing import StandardScaler\n",
        "ss-StandardScaler()"
      ],
      "metadata": {
        "id": "_nlZ6TUs8bqw"
      },
      "execution_count": null,
      "outputs": []
    },
    {
      "cell_type": "code",
      "source": [
        "x_scaled =- Ss.fit_transform(x)"
      ],
      "metadata": {
        "id": "xELNf1Fk8b5y"
      },
      "execution_count": null,
      "outputs": []
    },
    {
      "cell_type": "code",
      "source": [
        "x_Scaled = pd.DataFrame(x_scaled, columns=X. columns)\n",
        "X_scaled.head()"
      ],
      "metadata": {
        "id": "pgIMqUr_8cE-"
      },
      "execution_count": null,
      "outputs": []
    },
    {
      "cell_type": "code",
      "source": [
        "from sklearn.model selection import train test split\n",
        "x_train, x_test,y_train,y_test-train test_split(x,y, test size=0.2, random_ state-42)"
      ],
      "metadata": {
        "id": "NO3igbMX8cLL"
      },
      "execution_count": null,
      "outputs": []
    },
    {
      "cell_type": "code",
      "source": [
        "x_train.head()"
      ],
      "metadata": {
        "id": "luLsTHEv8cPi"
      },
      "execution_count": null,
      "outputs": []
    },
    {
      "cell_type": "code",
      "source": [
        "from sklearn .ensemble import RandomForestRegressor, GradientBoostingRegressor, AdaBoostRegressor\n",
        "rfr=RandomForestRegressor ()\n",
        "gb-Gradient BoostingRegressor()\n",
        "ad-AdaBoostRegressor )"
      ],
      "metadata": {
        "id": "qjjT6OAm8qFR"
      },
      "execution_count": null,
      "outputs": []
    },
    {
      "cell_type": "code",
      "source": [
        "from sklearn .metrics import r2_ score, mean_absolute_ error, mean_ squared_eror\n",
        "for i in [rfr,gb, ad]:\n",
        "i.fit(x_train,y_train)\n",
        "Y_pred=i.predict (x_test)\n",
        "test_score=r2_score (y_test,y_pred)\n",
        "train_score=r2_score (y_train, i.predict (x_train) )\n",
        "if abs(train_score-test_score)<=0.2:\n",
        "print (i)\n",
        "print (\"R2 score is\",r2_score(y_test,y_pred) )\n",
        "print(\"R2 for train data\", r2_score (y_train, i.predict(x_train)))\n",
        "print(\"Mean Absolute Error is\",mean_absolute _error(y_pred, y_test) )\n",
        "print(\"Mean Squared Error is\", mean_squared_error (y_pred, y_test))\n",
        "print(\"Root Mean Sqaured Error is\", (mean_squared_error (y_pred,y_test, squared=False)))"
      ],
      "metadata": {
        "id": "M-2g2K0a8qMm"
      },
      "execution_count": null,
      "outputs": []
    },
    {
      "cell_type": "code",
      "source": [
        "from sklearn. neighbors import KNeighborsRegressor\n",
        "from sklearn.svm import SVR\n",
        "from sklearn.tree import DecisionTree Regressor\n",
        "from sklearn.metrics import r2_score, mean_absolute_error, mean _squared error\n",
        "knn-KNeighborsRegressor ()\n",
        "svr=SVR()\n",
        "dt-DecisionTreeRegressor ()\n",
        "for i in [knn, svr,dt]:\n",
        "i.fit(x_train,y_train)\n",
        "y_pred=i.predict(x_test)\n",
        "test _score=r2_score(y_test,y_pred)\n",
        "train_score=r2_score(y_train, i.predict (x_train))\n",
        "if abs(train_score-test_score)<=0.1:\n",
        "print(i)\n",
        "print(\"R2 Score is',r2_score(y_test, y_pred)\n",
        "print('R2 Score for train data', r2_score(y_train, i.predict (x_train) ))\n",
        "print('Me an Absolute Error is', mean_absolute_error(y_test,y_pred) )\n",
        "print('Me an Squared Error is',mean _squared_error(y_test,y_pred) )\n",
        "print('Root Mean Squared Error is', (mean_squared_error(y_test,y_pred, squared-False) ))"
      ],
      "metadata": {
        "id": "6QPzhLIS8cT_"
      },
      "execution_count": null,
      "outputs": []
    },
    {
      "cell_type": "code",
      "source": [
        "from sklearn.model selection inport cross_val_score\n",
        "for i in range (2,5):\n",
        "cV=Cross_val _score (rfr,X,y, cv=i)\n",
        "print(rfr, cV.mean())"
      ],
      "metadata": {
        "id": "gXq7hzmE81IK"
      },
      "execution_count": null,
      "outputs": []
    },
    {
      "cell_type": "code",
      "source": [
        "from sklearn .model_selection import RandomizedSearchCV"
      ],
      "metadata": {
        "id": "-duDKIx981XY"
      },
      "execution_count": null,
      "outputs": []
    },
    {
      "cell_type": "code",
      "source": [
        "param_grid-{'n_estimators' : [10,30, 50,70, 100],'max_depth' : [None, 1, 2,3],\n",
        "'max_features':['auto', 'sqrt']}\n",
        "rfr=RandomForestRegressor()\n",
        "rf_res-RandomizedSearchCV(estimator=rfr, param distributions=param_grid, cv=3, verbose-=2, n_jobs--1)\n",
        "rf_res.fit(x_train,y_train)"
      ],
      "metadata": {
        "id": "JzqmhZJ689O4"
      },
      "execution_count": null,
      "outputs": []
    },
    {
      "cell_type": "code",
      "source": [
        "gb-GradientBoostingRegressor()\n",
        "gb_ res-RandomizedSearchcV(estinator-gb, param distributions=param grid, cv=3, verbose=2,n_jobs=-1)\n",
        "gb_res.fit(x_train,y_train)"
      ],
      "metadata": {
        "id": "aUXZ7s5y89gK"
      },
      "execution_count": null,
      "outputs": []
    },
    {
      "cell_type": "code",
      "source": [
        "rfr=RandomForestRegressor(n_estimators=18, max_features='sqrt',max_depth=None)\n",
        "rfr.fit(x_train,y_train)\n",
        "y_train_ pred =rfr.predict(x_train)\n",
        "y_test_ pred=rfr.predict (x_test)\n",
        "print(\"train accuracy\", r2_score(y_train_pred,y_train))\n",
        "print(\"test accuracy\", r2 score(y_test pred,y_ test))"
      ],
      "metadata": {
        "id": "cx4x1Pqz9Crj"
      },
      "execution_count": null,
      "outputs": []
    },
    {
      "cell_type": "code",
      "source": [
        "knn-KleighborsRegressor(n neighbons-2,algorithm='auto',netric_ parans-None, n jobs =-1)\n",
        "km.fit(x_train,y_train)\n",
        "y_train_pred=knn.predict(x_train)\n",
        "y_test pred-knn.predict(x_test)\n",
        "print(\"train accuracy\", r2_,score(y_train pred,y_train)\n",
        "print(\"test accuracy\", r2_score(y_test pred,y_ test)"
      ],
      "metadata": {
        "id": "knRLx71B9C3p"
      },
      "execution_count": null,
      "outputs": []
    },
    {
      "cell_type": "code",
      "source": [
        "rfr-RandonForesthegressor(n estinatons-10, max features-'sant',max depth-None)\n",
        "rfr.fit(x_train,y train)\n",
        "y train pred-rfr.predict(x train)\n",
        "Y_test_ pred-rnfr.predict(x_test)\n",
        "print(\"train accuracy\", r2,scorely_train pred,y train)\n",
        "print(\"test accuracy',r2_score(y_test_ pred,y_test))"
      ],
      "metadata": {
        "id": "jaKMLqUd9C__"
      },
      "execution_count": null,
      "outputs": []
    },
    {
      "cell_type": "code",
      "source": [
        "price_list-pd. DataFrame({'Price':prices} )"
      ],
      "metadata": {
        "id": "mGiMOFE49MAG"
      },
      "execution_count": null,
      "outputs": []
    },
    {
      "cell_type": "code",
      "source": [
        "price_list"
      ],
      "metadata": {
        "id": "3bQ5Xgax9Mbo"
      },
      "execution_count": null,
      "outputs": []
    },
    {
      "cell_type": "code",
      "source": [
        "import pickle\n",
        "pickle.dump (rfr, open( \"model1. pkl', 'wb'))"
      ],
      "metadata": {
        "id": "i_JkdXyn9SmD"
      },
      "execution_count": null,
      "outputs": []
    },
    {
      "cell_type": "code",
      "source": [
        "from flask import Flask, render_template, request\n",
        "import numpy as np\n",
        "import pickle"
      ],
      "metadata": {
        "id": "IRbsjQaQ9W9E"
      },
      "execution_count": null,
      "outputs": []
    },
    {
      "cell_type": "code",
      "source": [
        "model = pickle. load (open (r \"mode L1. pkl \", 'rb'))"
      ],
      "metadata": {
        "id": "9J-aV-zw9XQk"
      },
      "execution_count": null,
      "outputs": []
    },
    {
      "cell_type": "code",
      "source": [],
      "metadata": {
        "id": "pkamiKkY9Xby"
      },
      "execution_count": null,
      "outputs": []
    }
  ]
}